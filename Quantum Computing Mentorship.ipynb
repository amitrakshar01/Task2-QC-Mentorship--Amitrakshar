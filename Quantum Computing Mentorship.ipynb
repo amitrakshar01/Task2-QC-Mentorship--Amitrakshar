{
 "cells": [
  {
   "cell_type": "code",
   "execution_count": 8,
   "id": "parallel-hearing",
   "metadata": {},
   "outputs": [
    {
     "name": "stderr",
     "output_type": "stream",
     "text": [
      "ibmqfactory.load_account:WARNING:2021-02-09 13:47:40,343: Credentials are already in use. The existing account in the session will be replaced.\n"
     ]
    }
   ],
   "source": [
    "%matplotlib inline\n",
    "# Importing standard Qiskit libraries\n",
    "from qiskit import QuantumCircuit, execute, Aer, IBMQ\n",
    "from qiskit.compiler import transpile, assemble\n",
    "from qiskit.tools.jupyter import *\n",
    "from qiskit.visualization import *\n",
    "from iqx import *\n",
    "\n",
    "# Loading your IBM Q account(s)\n",
    "provider = IBMQ.load_account()"
   ]
  },
  {
   "cell_type": "code",
   "execution_count": 2,
   "id": "greenhouse-rings",
   "metadata": {},
   "outputs": [],
   "source": [
    "import qiskit as qk"
   ]
  },
  {
   "cell_type": "code",
   "execution_count": 3,
   "id": "advisory-teaching",
   "metadata": {},
   "outputs": [],
   "source": [
    "q=qk.QuantumRegister(2)\n",
    "c=qk.ClassicalRegister(2)"
   ]
  },
  {
   "cell_type": "code",
   "execution_count": 4,
   "id": "junior-crystal",
   "metadata": {},
   "outputs": [
    {
     "data": {
      "text/plain": [
       "<qiskit.circuit.instructionset.InstructionSet at 0x7f40db3f0910>"
      ]
     },
     "execution_count": 4,
     "metadata": {},
     "output_type": "execute_result"
    }
   ],
   "source": [
    "circuit=qk.QuantumCircuit(q,c)\n",
    "circuit.h(q[0])\n",
    "circuit.id(q[0]) #for Z gate the code: circuit.z(q[0])\n",
    "circuit.cx(q[0],q[1])\n",
    "circuit.measure(q,c)"
   ]
  },
  {
   "cell_type": "code",
   "execution_count": 5,
   "id": "editorial-payment",
   "metadata": {},
   "outputs": [
    {
     "name": "stdout",
     "output_type": "stream",
     "text": [
      "      ┌───┐┌───┐     ┌─┐   \n",
      "q0_0: ┤ H ├┤ I ├──■──┤M├───\n",
      "      └───┘└───┘┌─┴─┐└╥┘┌─┐\n",
      "q0_1: ──────────┤ X ├─╫─┤M├\n",
      "                └───┘ ║ └╥┘\n",
      "c0: 2/════════════════╩══╩═\n",
      "                      0  1 \n"
     ]
    }
   ],
   "source": [
    "print(circuit)"
   ]
  },
  {
   "cell_type": "code",
   "execution_count": 6,
   "id": "electric-africa",
   "metadata": {},
   "outputs": [
    {
     "data": {
      "text/plain": [
       "<qiskit.circuit.instructionset.InstructionSet at 0x7f40db391520>"
      ]
     },
     "execution_count": 6,
     "metadata": {},
     "output_type": "execute_result"
    }
   ],
   "source": [
    "#Assigning  a bit flip error using a 3 qubit quantum sytem\n",
    "\n",
    "qreg_q =qk.QuantumRegister(3)\n",
    "creg_c = qk.ClassicalRegister(3)\n",
    "circuit = qk.QuantumCircuit(qreg_q, creg_c)\n",
    "\n",
    "circuit.h(qreg_q[0])\n",
    "circuit.cx(qreg_q[0], qreg_q[1])\n",
    "circuit.ccx(qreg_q[0], qreg_q[1], qreg_q[2])\n",
    "circuit.x(qreg_q[0])\n",
    "circuit.cx(qreg_q[0], qreg_q[1])\n",
    "circuit.ccx(qreg_q[0], qreg_q[1], qreg_q[2])\n",
    "circuit.ccx(qreg_q[2], qreg_q[1], qreg_q[0])\n",
    "circuit.measure(qreg_q[0], creg_c[0])"
   ]
  },
  {
   "cell_type": "code",
   "execution_count": 7,
   "id": "significant-schema",
   "metadata": {},
   "outputs": [
    {
     "name": "stdout",
     "output_type": "stream",
     "text": [
      "      ┌───┐          ┌───┐          ┌───┐┌─┐\n",
      "q1_0: ┤ H ├──■────■──┤ X ├──■────■──┤ X ├┤M├\n",
      "      └───┘┌─┴─┐  │  └───┘┌─┴─┐  │  └─┬─┘└╥┘\n",
      "q1_1: ─────┤ X ├──■───────┤ X ├──■────■───╫─\n",
      "           └───┘┌─┴─┐     └───┘┌─┴─┐  │   ║ \n",
      "q1_2: ──────────┤ X ├──────────┤ X ├──■───╫─\n",
      "                └───┘          └───┘      ║ \n",
      "c1: 3/════════════════════════════════════╩═\n",
      "                                          0 \n"
     ]
    }
   ],
   "source": [
    "print(circuit)"
   ]
  },
  {
   "cell_type": "code",
   "execution_count": null,
   "id": "focal-picture",
   "metadata": {},
   "outputs": [],
   "source": []
  }
 ],
 "metadata": {
  "kernelspec": {
   "display_name": "Python 3",
   "language": "python",
   "name": "python3"
  },
  "language_info": {
   "codemirror_mode": {
    "name": "ipython",
    "version": 3
   },
   "file_extension": ".py",
   "mimetype": "text/x-python",
   "name": "python",
   "nbconvert_exporter": "python",
   "pygments_lexer": "ipython3",
   "version": "3.8.6"
  }
 },
 "nbformat": 4,
 "nbformat_minor": 5
}
